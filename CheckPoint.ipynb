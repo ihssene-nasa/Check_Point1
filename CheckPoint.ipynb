{
  "nbformat": 4,
  "nbformat_minor": 0,
  "metadata": {
    "colab": {
      "name": "CheckPoint",
      "provenance": [],
      "collapsed_sections": []
    },
    "kernelspec": {
      "name": "python3",
      "display_name": "Python 3"
    },
    "language_info": {
      "name": "python"
    }
  },
  "cells": [
    {
      "cell_type": "code",
      "metadata": {
        "id": "co4MGEwD7Ywm"
      },
      "source": [
        "import numpy as np"
      ],
      "execution_count": null,
      "outputs": []
    },
    {
      "cell_type": "code",
      "metadata": {
        "colab": {
          "base_uri": "https://localhost:8080/"
        },
        "id": "4apvmWY7CtFY",
        "outputId": "49eeaa8d-462c-487a-d388-572eb5de6f00"
      },
      "source": [
        "#Question1\n",
        "mylist = []\n",
        "for n in range(2000,3200):\n",
        "  if n%7==0 and n%5!=0 : \n",
        "    mylist.append(n)\n",
        "\n",
        "print(mylist)\n"
      ],
      "execution_count": null,
      "outputs": [
        {
          "output_type": "stream",
          "text": [
            "[2002, 2009, 2016, 2023, 2037, 2044, 2051, 2058, 2072, 2079, 2086, 2093, 2107, 2114, 2121, 2128, 2142, 2149, 2156, 2163, 2177, 2184, 2191, 2198, 2212, 2219, 2226, 2233, 2247, 2254, 2261, 2268, 2282, 2289, 2296, 2303, 2317, 2324, 2331, 2338, 2352, 2359, 2366, 2373, 2387, 2394, 2401, 2408, 2422, 2429, 2436, 2443, 2457, 2464, 2471, 2478, 2492, 2499, 2506, 2513, 2527, 2534, 2541, 2548, 2562, 2569, 2576, 2583, 2597, 2604, 2611, 2618, 2632, 2639, 2646, 2653, 2667, 2674, 2681, 2688, 2702, 2709, 2716, 2723, 2737, 2744, 2751, 2758, 2772, 2779, 2786, 2793, 2807, 2814, 2821, 2828, 2842, 2849, 2856, 2863, 2877, 2884, 2891, 2898, 2912, 2919, 2926, 2933, 2947, 2954, 2961, 2968, 2982, 2989, 2996, 3003, 3017, 3024, 3031, 3038, 3052, 3059, 3066, 3073, 3087, 3094, 3101, 3108, 3122, 3129, 3136, 3143, 3157, 3164, 3171, 3178, 3192, 3199]\n"
          ],
          "name": "stdout"
        }
      ]
    },
    {
      "cell_type": "code",
      "metadata": {
        "colab": {
          "base_uri": "https://localhost:8080/"
        },
        "id": "Jq9DHLUU_jyZ",
        "outputId": "a1e61577-0fe7-423c-f9d9-22a0db1a4041"
      },
      "source": [
        "#Quetsion2\n",
        "factorial = lambda x : x*(x-1)\n",
        "def function(a):\n",
        "  for i in range(1,int(a)):\n",
        "    res = factorial(int(a))\n",
        "  return res\n",
        "\n",
        "a = input(\"Enter the number : \")\n",
        "function(a)"
      ],
      "execution_count": null,
      "outputs": [
        {
          "output_type": "stream",
          "text": [
            "Enter the number : 3\n"
          ],
          "name": "stdout"
        },
        {
          "output_type": "execute_result",
          "data": {
            "text/plain": [
              "6"
            ]
          },
          "metadata": {
            "tags": []
          },
          "execution_count": 15
        }
      ]
    },
    {
      "cell_type": "code",
      "metadata": {
        "colab": {
          "base_uri": "https://localhost:8080/"
        },
        "id": "B4tcdNfwBl0a",
        "outputId": "cf133f06-3cf4-4bc8-883d-1c89834ca476"
      },
      "source": [
        "#Question3\n",
        "mydect = {}\n",
        "for i in range(0,10):\n",
        "  mydect[i] = (i**2)\n",
        "\n",
        "print(mydect)"
      ],
      "execution_count": null,
      "outputs": [
        {
          "output_type": "stream",
          "text": [
            "{0: 0, 1: 1, 2: 4, 3: 9, 4: 16, 5: 25, 6: 36, 7: 49, 8: 64, 9: 81}\n"
          ],
          "name": "stdout"
        }
      ]
    },
    {
      "cell_type": "code",
      "metadata": {
        "colab": {
          "base_uri": "https://localhost:8080/"
        },
        "id": "pCIVwzeIDIuw",
        "outputId": "9f3e97da-f3d1-404b-df62-cafb43cc11d9"
      },
      "source": [
        "#Question4\n",
        "def function(string,n):\n",
        "  res = string[:int(n)]+string[int(n)+1:]\n",
        "  return res\n",
        "\n",
        "name = input(\"Enter the string : \")\n",
        "n = input(\"Enter the position to remove :\")\n",
        "while int(n)> len(name):\n",
        "  n = input(\"Invalid input! Try again :\")\n",
        "print(\"The new string is : \", function(name,n))"
      ],
      "execution_count": null,
      "outputs": [
        {
          "output_type": "stream",
          "text": [
            "Enter the string : ihssene\n",
            "Enter the position to remove :-5\n",
            "The new string is :  ihsene\n"
          ],
          "name": "stdout"
        }
      ]
    },
    {
      "cell_type": "code",
      "metadata": {
        "colab": {
          "base_uri": "https://localhost:8080/"
        },
        "id": "FCZdVOdPDI7f",
        "outputId": "295008a3-f8b3-4374-95c2-8307624b8cce"
      },
      "source": [
        "#Question5\n",
        "def arraytolist(arr):\n",
        "  res = arr.reshape(-1,2).tolist()\n",
        "  return res\n",
        "\n",
        "A = np.array([[1,2],[3,4],[5,6]])\n",
        "print(\"Before(array) :\\n \", A)\n",
        "print(\"After(list) : \" , arraytolist(A))\n"
      ],
      "execution_count": null,
      "outputs": [
        {
          "output_type": "stream",
          "text": [
            "Before(array) :\n",
            "  [[1 2]\n",
            " [3 4]\n",
            " [5 6]]\n",
            "After(list) :  [[1, 2], [3, 4], [5, 6]]\n"
          ],
          "name": "stdout"
        }
      ]
    },
    {
      "cell_type": "code",
      "metadata": {
        "colab": {
          "base_uri": "https://localhost:8080/"
        },
        "id": "iUMqboUPFDMI",
        "outputId": "eec4dc18-aee9-461f-fada-1c38e463e2d9"
      },
      "source": [
        "#Question6\n",
        "def covariance(arr1,arr2):\n",
        "  return np.cov(arr1,arr2)\n",
        "\n",
        "A = np.array([0,1,2])\n",
        "B = np.array([2,1,0])\n",
        "covariance(A,B)"
      ],
      "execution_count": null,
      "outputs": [
        {
          "output_type": "execute_result",
          "data": {
            "text/plain": [
              "array([[ 1., -1.],\n",
              "       [-1.,  1.]])"
            ]
          },
          "metadata": {
            "tags": []
          },
          "execution_count": 36
        }
      ]
    },
    {
      "cell_type": "code",
      "metadata": {
        "colab": {
          "base_uri": "https://localhost:8080/"
        },
        "id": "lj3EZFLE9vrx",
        "outputId": "ebed0d21-2535-444c-f0cd-f771c4ae54a8"
      },
      "source": [
        "#Question7\n",
        "D=input(\"Enter your numbers : \")\n",
        "H = 30\n",
        "C = 50\n",
        "def function(D,H,C):\n",
        "  D = D.split(',')\n",
        "  for i in D:\n",
        "    res = (2*C*int(i))/H\n",
        "    res = int(np.round(res,-1))\n",
        "    print(res)\n",
        "\n",
        "function(D,H,C)"
      ],
      "execution_count": null,
      "outputs": [
        {
          "output_type": "stream",
          "text": [
            "Enter your numbers : 20,10,21,3\n",
            "70\n",
            "30\n",
            "70\n",
            "10\n"
          ],
          "name": "stdout"
        }
      ]
    },
    {
      "cell_type": "code",
      "metadata": {
        "id": "n1Iw9-cmBUni"
      },
      "source": [
        ""
      ],
      "execution_count": null,
      "outputs": []
    }
  ]
}